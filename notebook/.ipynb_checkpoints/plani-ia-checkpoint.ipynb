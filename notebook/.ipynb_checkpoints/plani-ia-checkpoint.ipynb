{
 "cells": [
  {
   "cell_type": "code",
   "execution_count": 9,
   "metadata": {},
   "outputs": [],
   "source": [
    "import json\n",
    "import openai\n",
    "\n",
    "# Cargar datos del usuario\n",
    "with open('user_data.json', 'r') as f:\n",
    "    user_data = json.load(f)\n",
    "\n",
    "# Cargar datos de viajes pasados\n",
    "with open('trip_data.json', 'r') as f:\n",
    "    trip_data = json.load(f)\n",
    "\n",
    "# Generar una recomendación basada en los datos\n",
    "def generate_recommendation(user_data, trip_data):\n",
    "    preferences = user_data[\"preferences\"]\n",
    "    last_trip = trip_data[\"trips\"][-1]\n",
    "    used_items = last_trip[\"used_items\"]\n",
    "    unused_items = last_trip[\"unused_items\"]\n",
    "\n",
    "    recommendation = f\"Para tu siguiente viaje, te recomendamos llevar {', '.join(preferences['clothing'])}. No olvides tus {', '.join(preferences['items'])}. \"\n",
    "    recommendation += f\"Basándonos en tu último viaje a la {last_trip['destination']}, donde utilizaste {', '.join(used_items)}, te sugerimos no llevar {', '.join(unused_items)}.\"\n",
    "\n",
    "    return recommendation\n",
    "\n",
    "# Generar la respuesta\n",
    "answer = generate_recommendation(user_data, trip_data)\n",
    "\n",
    "# Guardar la respuesta en un archivo JSON\n",
    "response_data = {\n",
    "    \"answer\": answer\n",
    "}\n",
    "\n",
    "with open('answer.json', 'w') as json_file:\n",
    "    json.dump(response_data, json_file)\n",
    "\n",
    "print(\"Recomendación generada y guardada en answer.json\")"
   ]
  },
  {
   "cell_type": "code",
   "execution_count": null,
   "metadata": {},
   "outputs": [],
   "source": []
  }
 ],
 "metadata": {
  "kernelspec": {
   "display_name": "Python 3 (ipykernel)",
   "language": "python",
   "name": "python3"
  },
  "language_info": {
   "codemirror_mode": {
    "name": "ipython",
    "version": 3
   },
   "file_extension": ".py",
   "mimetype": "text/x-python",
   "name": "python",
   "nbconvert_exporter": "python",
   "pygments_lexer": "ipython3",
   "version": "3.12.4"
  }
 },
 "nbformat": 4,
 "nbformat_minor": 4
}
